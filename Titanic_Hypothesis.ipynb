{
  "nbformat": 4,
  "nbformat_minor": 0,
  "metadata": {
    "colab": {
      "name": "Titanic_Hypothesis.ipynb",
      "provenance": []
    },
    "kernelspec": {
      "name": "python3",
      "display_name": "Python 3"
    },
    "language_info": {
      "name": "python"
    }
  },
  "cells": [
    {
      "cell_type": "code",
      "metadata": {
        "colab": {
          "base_uri": "https://localhost:8080/",
          "height": 108
        },
        "id": "el_qrGRSVh4Q",
        "outputId": "0f70336c-58ba-4a1a-e94b-04d5830d2199"
      },
      "source": [
        "import pandas as pd \n",
        "Data = pd.read_csv('train.csv')\n",
        "Data.head(2)"
      ],
      "execution_count": 53,
      "outputs": [
        {
          "output_type": "execute_result",
          "data": {
            "text/html": [
              "<div>\n",
              "<style scoped>\n",
              "    .dataframe tbody tr th:only-of-type {\n",
              "        vertical-align: middle;\n",
              "    }\n",
              "\n",
              "    .dataframe tbody tr th {\n",
              "        vertical-align: top;\n",
              "    }\n",
              "\n",
              "    .dataframe thead th {\n",
              "        text-align: right;\n",
              "    }\n",
              "</style>\n",
              "<table border=\"1\" class=\"dataframe\">\n",
              "  <thead>\n",
              "    <tr style=\"text-align: right;\">\n",
              "      <th></th>\n",
              "      <th>PassengerId</th>\n",
              "      <th>Survived</th>\n",
              "      <th>Pclass</th>\n",
              "      <th>Name</th>\n",
              "      <th>Sex</th>\n",
              "      <th>Age</th>\n",
              "      <th>SibSp</th>\n",
              "      <th>Parch</th>\n",
              "      <th>Ticket</th>\n",
              "      <th>Fare</th>\n",
              "      <th>Cabin</th>\n",
              "      <th>Embarked</th>\n",
              "    </tr>\n",
              "  </thead>\n",
              "  <tbody>\n",
              "    <tr>\n",
              "      <th>0</th>\n",
              "      <td>1</td>\n",
              "      <td>0</td>\n",
              "      <td>3</td>\n",
              "      <td>Braund, Mr. Owen Harris</td>\n",
              "      <td>male</td>\n",
              "      <td>22.0</td>\n",
              "      <td>1</td>\n",
              "      <td>0</td>\n",
              "      <td>A/5 21171</td>\n",
              "      <td>7.2500</td>\n",
              "      <td>NaN</td>\n",
              "      <td>S</td>\n",
              "    </tr>\n",
              "    <tr>\n",
              "      <th>1</th>\n",
              "      <td>2</td>\n",
              "      <td>1</td>\n",
              "      <td>1</td>\n",
              "      <td>Cumings, Mrs. John Bradley (Florence Briggs Th...</td>\n",
              "      <td>female</td>\n",
              "      <td>38.0</td>\n",
              "      <td>1</td>\n",
              "      <td>0</td>\n",
              "      <td>PC 17599</td>\n",
              "      <td>71.2833</td>\n",
              "      <td>C85</td>\n",
              "      <td>C</td>\n",
              "    </tr>\n",
              "  </tbody>\n",
              "</table>\n",
              "</div>"
            ],
            "text/plain": [
              "   PassengerId  Survived  Pclass  ...     Fare Cabin  Embarked\n",
              "0            1         0       3  ...   7.2500   NaN         S\n",
              "1            2         1       1  ...  71.2833   C85         C\n",
              "\n",
              "[2 rows x 12 columns]"
            ]
          },
          "metadata": {
            "tags": []
          },
          "execution_count": 53
        }
      ]
    },
    {
      "cell_type": "markdown",
      "metadata": {
        "id": "GdWvsUZUWF6n"
      },
      "source": [
        "The data has several features but we are only concerned about the followings:\n",
        "Survived: A category of either 0 or 1 which indicates whether that individual survived.\n",
        "\n",
        "Pclass: The ship was divided into three classes. First, Second, and Third.\n",
        "\n",
        "Fare: The price that this individual paid for the ticket."
      ]
    },
    {
      "cell_type": "code",
      "metadata": {
        "id": "spPG6NygV-Aj"
      },
      "source": [
        "# Distribution for rich:\n",
        "first_fares = Data[\"Fare\"][Data[\"Pclass\"]==1]\n",
        "# Distribution for Poor\n",
        "third_fares = Data[\"Fare\"][Data[\"Pclass\"]==3]"
      ],
      "execution_count": 54,
      "outputs": []
    },
    {
      "cell_type": "code",
      "metadata": {
        "colab": {
          "base_uri": "https://localhost:8080/",
          "height": 279
        },
        "id": "NXNX-S36Wwfw",
        "outputId": "f794925d-c6d7-4e64-9103-d498d88fcae0"
      },
      "source": [
        "import seaborn as sns\n",
        "import matplotlib.pyplot as plt\n",
        "sns.set_style('whitegrid')\n",
        "import numpy as np \n",
        "f = plt.figure()\n",
        "f.add_subplot(1,2,1)\n",
        "ax1=sns.histplot(first_fares,color='g')\n",
        "f.add_subplot(1,2,2)\n",
        "ax2=sns.histplot(third_fares,color='g')\n",
        "ax1.annotate('Rich',xy=(0.9, 0.9), xycoords=\"axes fraction\")\n",
        "ax2.annotate('Poor',xy=(0.9, 0.9), xycoords=\"axes fraction\")\n",
        "\n",
        "plt.show()"
      ],
      "execution_count": 55,
      "outputs": [
        {
          "output_type": "display_data",
          "data": {
            "image/png": "[encoded data removed]",
            "text/plain": [
              "<Figure size 432x288 with 2 Axes>"
            ]
          },
          "metadata": {
            "tags": []
          }
        }
      ]
    },
    {
      "cell_type": "code",
      "metadata": {
        "colab": {
          "base_uri": "https://localhost:8080/"
        },
        "id": "eYcFyzT_Z0OB",
        "outputId": "c053dba8-fb08-46f0-fa9d-c3a5a823229f"
      },
      "source": [
        "first_fares.describe()"
      ],
      "execution_count": 56,
      "outputs": [
        {
          "output_type": "execute_result",
          "data": {
            "text/plain": [
              "count    216.000000\n",
              "mean      84.154687\n",
              "std       78.380373\n",
              "min        0.000000\n",
              "25%       30.923950\n",
              "50%       60.287500\n",
              "75%       93.500000\n",
              "max      512.329200\n",
              "Name: Fare, dtype: float64"
            ]
          },
          "metadata": {
            "tags": []
          },
          "execution_count": 56
        }
      ]
    },
    {
      "cell_type": "code",
      "metadata": {
        "colab": {
          "base_uri": "https://localhost:8080/"
        },
        "id": "wKLliYoYZ5VO",
        "outputId": "57793689-3b63-4f2b-82fd-6939f94c9c4f"
      },
      "source": [
        "third_fares.describe()"
      ],
      "execution_count": 57,
      "outputs": [
        {
          "output_type": "execute_result",
          "data": {
            "text/plain": [
              "count    491.000000\n",
              "mean      13.675550\n",
              "std       11.778142\n",
              "min        0.000000\n",
              "25%        7.750000\n",
              "50%        8.050000\n",
              "75%       15.500000\n",
              "max       69.550000\n",
              "Name: Fare, dtype: float64"
            ]
          },
          "metadata": {
            "tags": []
          },
          "execution_count": 57
        }
      ]
    },
    {
      "cell_type": "markdown",
      "metadata": {
        "id": "s_GDAHlsacX7"
      },
      "source": [
        "**Did the rich people have a better chance of survival?**\n",
        "\n",
        "check the proportion of the people who survived from the first-class group and compare it to that of the third-class group "
      ]
    },
    {
      "cell_type": "markdown",
      "metadata": {
        "id": "8mH5B7JrZwU2"
      },
      "source": [
        "The first-class tickets range between 12.72$ and 263$ with an average of 84.15$ while the third class tickets range between 6.88$ and 56.5$ with an average of 13.68$. So we can see that the class feature is a representation of the socio-economic status of the people in the ship and we can assume that those in the first-class group are the rich.\n",
        "\n",
        "In statistical inference, hypothesis testing is used to check if the observed difference between the two populations is really significant or is just due to some randomness/bias in the data.\n",
        "\n",
        "Null and Alternative hypothesis:\n",
        "\n",
        "Null Hypothesis: The socio-economic class of the people didn’t have an effect on the survival rate.\n",
        "\n",
        "Alternative Hypothesis: The socio-economic class of the people affected their survival rate.\n",
        "\n",
        "For the z-test to work, the two populations have to be normally distributed. In other words, the probability distribution of the survival rate of the first-class people and the probability distribution of the survival rate for the third-class both have to be normally distributed. However, we don’t really have the data of the entire population, we just have a sample population. The fix to this problem is the central limit theorem. If we take a large enough sample of means from the population, then our sample distribution is going to be normally distributed. \n",
        "\n"
      ]
    },
    {
      "cell_type": "code",
      "metadata": {
        "id": "SyGcaO5WaIvx"
      },
      "source": [
        "# take 100 sample mean each sample 20 points\n",
        "first_sample =[]\n",
        "for i in range(100):\n",
        "  samp_20 = Data[Data['Pclass']==1]['Survived'].sample(30)\n",
        "  first_sample.append(np.mean(samp_20))\n",
        "  "
      ],
      "execution_count": 58,
      "outputs": []
    },
    {
      "cell_type": "code",
      "metadata": {
        "colab": {
          "base_uri": "https://localhost:8080/"
        },
        "id": "nJ1ZfTAac2KO",
        "outputId": "52c14908-e4bf-4d26-abd8-3038760816f6"
      },
      "source": [
        "len(first_sample)"
      ],
      "execution_count": 59,
      "outputs": [
        {
          "output_type": "execute_result",
          "data": {
            "text/plain": [
              "100"
            ]
          },
          "metadata": {
            "tags": []
          },
          "execution_count": 59
        }
      ]
    },
    {
      "cell_type": "code",
      "metadata": {
        "id": "s7O1SyimfGbO"
      },
      "source": [
        "# take 100 sample mean each sample 20 points\n",
        "third_sample =[]\n",
        "for i in range(100):\n",
        "  samp_20 = Data[Data['Pclass']==3]['Survived'].sample(30)\n",
        "  third_sample.append(np.mean(samp_20))"
      ],
      "execution_count": 60,
      "outputs": []
    },
    {
      "cell_type": "code",
      "metadata": {
        "colab": {
          "base_uri": "https://localhost:8080/",
          "height": 441
        },
        "id": "2CNWAaowfT3O",
        "outputId": "2e2e3a5e-ae9b-458b-ae8b-9dc7c072d612"
      },
      "source": [
        "# plot histogram of sample means\n",
        "f = plt.figure(figsize=(10,6))\n",
        "f.add_subplot(1,2,1)\n",
        "ax1=sns.kdeplot(first_sample,color='g')\n",
        "f.add_subplot(1,2,2)\n",
        "ax2=sns.kdeplot(third_sample,color='g')\n",
        "ax1.annotate('Rich sample means',xy=(0.9, 0.9), xycoords=\"axes fraction\")\n",
        "ax2.annotate('Poor sample means',xy=(0.9, 0.9), xycoords=\"axes fraction\")\n",
        "plt.tight_layout()\n",
        "plt.show()"
      ],
      "execution_count": 61,
      "outputs": [
        {
          "output_type": "display_data",
          "data": {
            "image/png": "[encoded data removed]",
            "text/plain": [
              "<Figure size 720x432 with 2 Axes>"
            ]
          },
          "metadata": {
            "tags": []
          }
        }
      ]
    },
    {
      "cell_type": "code",
      "metadata": {
        "colab": {
          "base_uri": "https://localhost:8080/"
        },
        "id": "NZEzDv2Ffol8",
        "outputId": "448db60d-50df-4dc3-c69b-e24cc1bac714"
      },
      "source": [
        "np.mean(first_sample),np.mean(third_sample)"
      ],
      "execution_count": 62,
      "outputs": [
        {
          "output_type": "execute_result",
          "data": {
            "text/plain": [
              "(0.6313333333333333, 0.2516666666666667)"
            ]
          },
          "metadata": {
            "tags": []
          },
          "execution_count": 62
        }
      ]
    },
    {
      "cell_type": "markdown",
      "metadata": {
        "id": "dMaHXTchgsCg"
      },
      "source": [
        "According to the sample distributions, the effect of the class is 0.63–0.24 = 0.39\n",
        "\n"
      ]
    },
    {
      "cell_type": "code",
      "metadata": {
        "colab": {
          "base_uri": "https://localhost:8080/"
        },
        "id": "g0UpMy2EhLjC",
        "outputId": "77cf8ab3-7254-44c2-971d-d1b11a2697e9"
      },
      "source": [
        "effect = np.mean(first_sample) - np.mean(third_sample) # z test\n",
        "sigma_first = np.std(first_sample)\n",
        "sigma_third = np.std(third_sample)\n",
        "sigma_difference = np.sqrt((sigma_first**2)/len(first_sample)  +  (sigma_third**2)/len(third_sample))\n",
        "z_score = effect / sigma_difference\n",
        "z_score"
      ],
      "execution_count": 63,
      "outputs": [
        {
          "output_type": "execute_result",
          "data": {
            "text/plain": [
              "36.19266814809299"
            ]
          },
          "metadata": {
            "tags": []
          },
          "execution_count": 63
        }
      ]
    },
    {
      "cell_type": "code",
      "metadata": {
        "colab": {
          "base_uri": "https://localhost:8080/"
        },
        "id": "hrqweVbQhgPu",
        "outputId": "3715119e-c28f-44a1-9e2a-686721a8cc88"
      },
      "source": [
        "from scipy import stats # ttest\n",
        "stats.ttest_ind(first_sample,third_sample)"
      ],
      "execution_count": 64,
      "outputs": [
        {
          "output_type": "execute_result",
          "data": {
            "text/plain": [
              "Ttest_indResult(statistic=36.01125012272144, pvalue=7.403200230209857e-89)"
            ]
          },
          "metadata": {
            "tags": []
          },
          "execution_count": 64
        }
      ]
    },
    {
      "cell_type": "markdown",
      "metadata": {
        "id": "EsUrArRAiNBO"
      },
      "source": [
        "The P-value is almost 0. This is definitely much smaller than the significance level of 0.05 that we set. That P-value means that if we assume that the null hypothesis is true, then the probability of observing that effect by random is 0% which is an extremely small probability that makes us comfortable in rejecting the Null hypothesis."
      ]
    },
    {
      "cell_type": "code",
      "metadata": {
        "colab": {
          "base_uri": "https://localhost:8080/",
          "height": 336
        },
        "id": "apxMt2pUh9lz",
        "outputId": "40933b89-c9d5-4487-a20f-9b01944bc3cb"
      },
      "source": [
        "cols = Data.columns \n",
        "colours = ['darkblue', 'red'] \n",
        "sns.heatmap(Data[cols].isnull(), cmap=sns.color_palette(colours))"
      ],
      "execution_count": 65,
      "outputs": [
        {
          "output_type": "execute_result",
          "data": {
            "text/plain": [
              "<matplotlib.axes._subplots.AxesSubplot at 0x7fecce9d7510>"
            ]
          },
          "metadata": {
            "tags": []
          },
          "execution_count": 65
        },
        {
          "output_type": "display_data",
          "data": {
            "image/png": "[encoded data removed]",
            "text/plain": [
              "<Figure size 432x288 with 2 Axes>"
            ]
          },
          "metadata": {
            "tags": []
          }
        }
      ]
    },
    {
      "cell_type": "markdown",
      "metadata": {
        "id": "yb9r3DNdDJfX"
      },
      "source": [
        "It seems that the features “Age” and “Cabin” have a lot of missing values."
      ]
    },
    {
      "cell_type": "code",
      "metadata": {
        "colab": {
          "base_uri": "https://localhost:8080/"
        },
        "id": "w8ScBZffDAcl",
        "outputId": "c18c9980-49c0-4649-e8fc-0ba400641600"
      },
      "source": [
        "#Missing value in %\n",
        "for col in cols:\n",
        "  print(\"missing value % in\",col, round(Data[col].isnull().sum()/len(Data),2)*100,'%')"
      ],
      "execution_count": 66,
      "outputs": [
        {
          "output_type": "stream",
          "text": [
            "missing value % in PassengerId 0.0 %\n",
            "missing value % in Survived 0.0 %\n",
            "missing value % in Pclass 0.0 %\n",
            "missing value % in Name 0.0 %\n",
            "missing value % in Sex 0.0 %\n",
            "missing value % in Age 20.0 %\n",
            "missing value % in SibSp 0.0 %\n",
            "missing value % in Parch 0.0 %\n",
            "missing value % in Ticket 0.0 %\n",
            "missing value % in Fare 0.0 %\n",
            "missing value % in Cabin 77.0 %\n",
            "missing value % in Embarked 0.0 %\n"
          ],
          "name": "stdout"
        }
      ]
    },
    {
      "cell_type": "code",
      "metadata": {
        "id": "2jcvhprJDWTx"
      },
      "source": [
        "# drop The feature “Cabin” is missing 77% of the data. \n",
        "Data.drop('Cabin',axis=1,inplace=True)"
      ],
      "execution_count": 67,
      "outputs": []
    },
    {
      "cell_type": "markdown",
      "metadata": {
        "id": "4UgUlBoEEsre"
      },
      "source": [
        "The dataset has a feature “Name” the name has the title of the people (e.g. “Mr”, “Miss”…etc). That title should be a great indication of the age. Also, I should keep in mind that at that time of the incidence (in 1912) the socioeconomic status affected the people’s title regardless on age (e.g. younger people who are rich could get titles that usual poor people at the same age wouldn’t). we will group people by their title and Pclass and then I will assign the mean of the age of each group to the missing age in each group."
      ]
    },
    {
      "cell_type": "code",
      "metadata": {
        "colab": {
          "base_uri": "https://localhost:8080/",
          "height": 198
        },
        "id": "ox5ONpJWE4GI",
        "outputId": "6eaa5c67-d2e4-4395-fbfb-4cc7d7d1309d"
      },
      "source": [
        "Data.head(5)"
      ],
      "execution_count": 68,
      "outputs": [
        {
          "output_type": "execute_result",
          "data": {
            "text/html": [
              "<div>\n",
              "<style scoped>\n",
              "    .dataframe tbody tr th:only-of-type {\n",
              "        vertical-align: middle;\n",
              "    }\n",
              "\n",
              "    .dataframe tbody tr th {\n",
              "        vertical-align: top;\n",
              "    }\n",
              "\n",
              "    .dataframe thead th {\n",
              "        text-align: right;\n",
              "    }\n",
              "</style>\n",
              "<table border=\"1\" class=\"dataframe\">\n",
              "  <thead>\n",
              "    <tr style=\"text-align: right;\">\n",
              "      <th></th>\n",
              "      <th>PassengerId</th>\n",
              "      <th>Survived</th>\n",
              "      <th>Pclass</th>\n",
              "      <th>Name</th>\n",
              "      <th>Sex</th>\n",
              "      <th>Age</th>\n",
              "      <th>SibSp</th>\n",
              "      <th>Parch</th>\n",
              "      <th>Ticket</th>\n",
              "      <th>Fare</th>\n",
              "      <th>Embarked</th>\n",
              "    </tr>\n",
              "  </thead>\n",
              "  <tbody>\n",
              "    <tr>\n",
              "      <th>0</th>\n",
              "      <td>1</td>\n",
              "      <td>0</td>\n",
              "      <td>3</td>\n",
              "      <td>Braund, Mr. Owen Harris</td>\n",
              "      <td>male</td>\n",
              "      <td>22.0</td>\n",
              "      <td>1</td>\n",
              "      <td>0</td>\n",
              "      <td>A/5 21171</td>\n",
              "      <td>7.2500</td>\n",
              "      <td>S</td>\n",
              "    </tr>\n",
              "    <tr>\n",
              "      <th>1</th>\n",
              "      <td>2</td>\n",
              "      <td>1</td>\n",
              "      <td>1</td>\n",
              "      <td>Cumings, Mrs. John Bradley (Florence Briggs Th...</td>\n",
              "      <td>female</td>\n",
              "      <td>38.0</td>\n",
              "      <td>1</td>\n",
              "      <td>0</td>\n",
              "      <td>PC 17599</td>\n",
              "      <td>71.2833</td>\n",
              "      <td>C</td>\n",
              "    </tr>\n",
              "    <tr>\n",
              "      <th>2</th>\n",
              "      <td>3</td>\n",
              "      <td>1</td>\n",
              "      <td>3</td>\n",
              "      <td>Heikkinen, Miss. Laina</td>\n",
              "      <td>female</td>\n",
              "      <td>26.0</td>\n",
              "      <td>0</td>\n",
              "      <td>0</td>\n",
              "      <td>STON/O2. 3101282</td>\n",
              "      <td>7.9250</td>\n",
              "      <td>S</td>\n",
              "    </tr>\n",
              "    <tr>\n",
              "      <th>3</th>\n",
              "      <td>4</td>\n",
              "      <td>1</td>\n",
              "      <td>1</td>\n",
              "      <td>Futrelle, Mrs. Jacques Heath (Lily May Peel)</td>\n",
              "      <td>female</td>\n",
              "      <td>35.0</td>\n",
              "      <td>1</td>\n",
              "      <td>0</td>\n",
              "      <td>113803</td>\n",
              "      <td>53.1000</td>\n",
              "      <td>S</td>\n",
              "    </tr>\n",
              "    <tr>\n",
              "      <th>4</th>\n",
              "      <td>5</td>\n",
              "      <td>0</td>\n",
              "      <td>3</td>\n",
              "      <td>Allen, Mr. William Henry</td>\n",
              "      <td>male</td>\n",
              "      <td>35.0</td>\n",
              "      <td>0</td>\n",
              "      <td>0</td>\n",
              "      <td>373450</td>\n",
              "      <td>8.0500</td>\n",
              "      <td>S</td>\n",
              "    </tr>\n",
              "  </tbody>\n",
              "</table>\n",
              "</div>"
            ],
            "text/plain": [
              "   PassengerId  Survived  Pclass  ...            Ticket     Fare  Embarked\n",
              "0            1         0       3  ...         A/5 21171   7.2500         S\n",
              "1            2         1       1  ...          PC 17599  71.2833         C\n",
              "2            3         1       3  ...  STON/O2. 3101282   7.9250         S\n",
              "3            4         1       1  ...            113803  53.1000         S\n",
              "4            5         0       3  ...            373450   8.0500         S\n",
              "\n",
              "[5 rows x 11 columns]"
            ]
          },
          "metadata": {
            "tags": []
          },
          "execution_count": 68
        }
      ]
    },
    {
      "cell_type": "code",
      "metadata": {
        "id": "B3RlGA8LFZMx"
      },
      "source": [
        "#extract title name \n",
        "def extract_title(col_value):\n",
        "  \n",
        "  title_value = col_value.split(\",\")[1].split(\".\")[0]\n",
        "  return title_value\n",
        "Data['Title'] = Data['Name'].apply(extract_title)"
      ],
      "execution_count": 69,
      "outputs": []
    },
    {
      "cell_type": "code",
      "metadata": {
        "colab": {
          "base_uri": "https://localhost:8080/"
        },
        "id": "4z5db9otGadc",
        "outputId": "a8ff9d25-b792-427d-fdf8-a2925e93c284"
      },
      "source": [
        "Data.Title.unique()"
      ],
      "execution_count": 70,
      "outputs": [
        {
          "output_type": "execute_result",
          "data": {
            "text/plain": [
              "array([' Mr', ' Mrs', ' Miss', ' Master', ' Don', ' Rev', ' Dr', ' Mme',\n",
              "       ' Ms', ' Major', ' Lady', ' Sir', ' Mlle', ' Col', ' Capt',\n",
              "       ' the Countess', ' Jonkheer'], dtype=object)"
            ]
          },
          "metadata": {
            "tags": []
          },
          "execution_count": 70
        }
      ]
    },
    {
      "cell_type": "code",
      "metadata": {
        "colab": {
          "base_uri": "https://localhost:8080/"
        },
        "id": "OT0Kzm38EX4L",
        "outputId": "b216f416-5c94-4310-f401-75e6a247341a"
      },
      "source": [
        "age_impute = Data.groupby(['Title','Pclass'])['Age'].mean().round(0)\n",
        "age_impute"
      ],
      "execution_count": 71,
      "outputs": [
        {
          "output_type": "execute_result",
          "data": {
            "text/plain": [
              "Title          Pclass\n",
              " Capt          1         70.0\n",
              " Col           1         58.0\n",
              " Don           1         40.0\n",
              " Dr            1         44.0\n",
              "               2         38.0\n",
              " Jonkheer      1         38.0\n",
              " Lady          1         48.0\n",
              " Major         1         48.0\n",
              " Master        1          5.0\n",
              "               2          2.0\n",
              "               3          5.0\n",
              " Miss          1         30.0\n",
              "               2         22.0\n",
              "               3         16.0\n",
              " Mlle          1         24.0\n",
              " Mme           1         24.0\n",
              " Mr            1         42.0\n",
              "               2         33.0\n",
              "               3         29.0\n",
              " Mrs           1         41.0\n",
              "               2         34.0\n",
              "               3         34.0\n",
              " Ms            2         28.0\n",
              " Rev           2         43.0\n",
              " Sir           1         49.0\n",
              " the Countess  1         33.0\n",
              "Name: Age, dtype: float64"
            ]
          },
          "metadata": {
            "tags": []
          },
          "execution_count": 71
        }
      ]
    },
    {
      "cell_type": "code",
      "metadata": {
        "id": "Cx2F4Y9ZINwF"
      },
      "source": [
        "# adding the mean of the age of each group to the missing values\n",
        "Data[\"Age\"] = Data.groupby([\"Title\", \"Pclass\"])[\"Age\"].transform(lambda x: x.fillna(x.mean()))"
      ],
      "execution_count": 72,
      "outputs": []
    },
    {
      "cell_type": "code",
      "metadata": {
        "id": "102B_zA2I_SZ"
      },
      "source": [
        "Data = Data.drop(columns = [\"Name\"])\n",
        "Data = Data.drop(columns = [\"PassengerId\"])\n",
        "Data = Data.drop(columns = [\"Ticket\"])"
      ],
      "execution_count": 73,
      "outputs": []
    },
    {
      "cell_type": "code",
      "metadata": {
        "colab": {
          "base_uri": "https://localhost:8080/",
          "height": 198
        },
        "id": "ve9vXMS9K7hq",
        "outputId": "3cad3622-9b52-4d43-b080-2711ad3d0893"
      },
      "source": [
        "Data.head()"
      ],
      "execution_count": 76,
      "outputs": [
        {
          "output_type": "execute_result",
          "data": {
            "text/html": [
              "<div>\n",
              "<style scoped>\n",
              "    .dataframe tbody tr th:only-of-type {\n",
              "        vertical-align: middle;\n",
              "    }\n",
              "\n",
              "    .dataframe tbody tr th {\n",
              "        vertical-align: top;\n",
              "    }\n",
              "\n",
              "    .dataframe thead th {\n",
              "        text-align: right;\n",
              "    }\n",
              "</style>\n",
              "<table border=\"1\" class=\"dataframe\">\n",
              "  <thead>\n",
              "    <tr style=\"text-align: right;\">\n",
              "      <th></th>\n",
              "      <th>Survived</th>\n",
              "      <th>Pclass</th>\n",
              "      <th>Sex</th>\n",
              "      <th>Age</th>\n",
              "      <th>SibSp</th>\n",
              "      <th>Parch</th>\n",
              "      <th>Fare</th>\n",
              "      <th>Embarked</th>\n",
              "      <th>Title</th>\n",
              "    </tr>\n",
              "  </thead>\n",
              "  <tbody>\n",
              "    <tr>\n",
              "      <th>0</th>\n",
              "      <td>0</td>\n",
              "      <td>3</td>\n",
              "      <td>1</td>\n",
              "      <td>22.0</td>\n",
              "      <td>1</td>\n",
              "      <td>0</td>\n",
              "      <td>7.2500</td>\n",
              "      <td>2</td>\n",
              "      <td>Mr</td>\n",
              "    </tr>\n",
              "    <tr>\n",
              "      <th>1</th>\n",
              "      <td>1</td>\n",
              "      <td>1</td>\n",
              "      <td>0</td>\n",
              "      <td>38.0</td>\n",
              "      <td>1</td>\n",
              "      <td>0</td>\n",
              "      <td>71.2833</td>\n",
              "      <td>0</td>\n",
              "      <td>Mrs</td>\n",
              "    </tr>\n",
              "    <tr>\n",
              "      <th>2</th>\n",
              "      <td>1</td>\n",
              "      <td>3</td>\n",
              "      <td>0</td>\n",
              "      <td>26.0</td>\n",
              "      <td>0</td>\n",
              "      <td>0</td>\n",
              "      <td>7.9250</td>\n",
              "      <td>2</td>\n",
              "      <td>Miss</td>\n",
              "    </tr>\n",
              "    <tr>\n",
              "      <th>3</th>\n",
              "      <td>1</td>\n",
              "      <td>1</td>\n",
              "      <td>0</td>\n",
              "      <td>35.0</td>\n",
              "      <td>1</td>\n",
              "      <td>0</td>\n",
              "      <td>53.1000</td>\n",
              "      <td>2</td>\n",
              "      <td>Mrs</td>\n",
              "    </tr>\n",
              "    <tr>\n",
              "      <th>4</th>\n",
              "      <td>0</td>\n",
              "      <td>3</td>\n",
              "      <td>1</td>\n",
              "      <td>35.0</td>\n",
              "      <td>0</td>\n",
              "      <td>0</td>\n",
              "      <td>8.0500</td>\n",
              "      <td>2</td>\n",
              "      <td>Mr</td>\n",
              "    </tr>\n",
              "  </tbody>\n",
              "</table>\n",
              "</div>"
            ],
            "text/plain": [
              "   Survived  Pclass  Sex   Age  SibSp  Parch     Fare  Embarked  Title\n",
              "0         0       3    1  22.0      1      0   7.2500         2     Mr\n",
              "1         1       1    0  38.0      1      0  71.2833         0    Mrs\n",
              "2         1       3    0  26.0      0      0   7.9250         2   Miss\n",
              "3         1       1    0  35.0      1      0  53.1000         2    Mrs\n",
              "4         0       3    1  35.0      0      0   8.0500         2     Mr"
            ]
          },
          "metadata": {
            "tags": []
          },
          "execution_count": 76
        }
      ]
    },
    {
      "cell_type": "code",
      "metadata": {
        "id": "4FprrUFsJNsd"
      },
      "source": [
        "Data.Sex = pd.Categorical(Data.Sex)\n",
        "Data.Embarked = pd.Categorical(Data.Embarked)\n",
        "Data[\"Sex\"] = Data.Sex.cat.codes\n",
        "Data[\"Embarked\"] = Data.Embarked.cat.codes #encode the categorical features into numerical"
      ],
      "execution_count": 74,
      "outputs": []
    },
    {
      "cell_type": "code",
      "metadata": {
        "id": "qAhxheHZKGhq"
      },
      "source": [
        "target = Data.Survived.values\n",
        "Data = Data.drop(columns =[\"Survived\",'Title'])"
      ],
      "execution_count": 77,
      "outputs": []
    },
    {
      "cell_type": "code",
      "metadata": {
        "colab": {
          "base_uri": "https://localhost:8080/"
        },
        "id": "TZzRD15XKR4Q",
        "outputId": "51de8d11-36e2-4e06-87b0-b82d98b53d62"
      },
      "source": [
        "from sklearn.model_selection import train_test_split\n",
        "x_train, x_test, y_train, y_test = train_test_split(Data, target, test_size=0.2, random_state=0)\n",
        "from sklearn.linear_model import LogisticRegression\n",
        "LR = LogisticRegression()\n",
        "LR.fit(x_train, y_train)\n",
        "LR.score(x_test, y_test)"
      ],
      "execution_count": 78,
      "outputs": [
        {
          "output_type": "execute_result",
          "data": {
            "text/plain": [
              "0.8156424581005587"
            ]
          },
          "metadata": {
            "tags": []
          },
          "execution_count": 78
        }
      ]
    },
    {
      "cell_type": "markdown",
      "metadata": {
        "id": "nMJ0N1e9LH06"
      },
      "source": [
        "#### Model Interpretation with SHAP"
      ]
    },
    {
      "cell_type": "code",
      "metadata": {
        "colab": {
          "base_uri": "https://localhost:8080/"
        },
        "id": "2ab2mVLsKeU8",
        "outputId": "987ec0e1-3c73-4646-a3c6-e5ff7ac9ee5f"
      },
      "source": [
        "!pip install SHAP"
      ],
      "execution_count": 79,
      "outputs": [
        {
          "output_type": "stream",
          "text": [
            "Collecting SHAP\n",
            "\u001b[?25l  Downloading https://files.pythonhosted.org/packages/b9/f4/c5b95cddae15be80f8e58b25edceca105aa83c0b8c86a1edad24a6af80d3/shap-0.39.0.tar.gz (356kB)\n",
            "\u001b[K     |████████████████████████████████| 358kB 3.9MB/s \n",
            "\u001b[?25hRequirement already satisfied: numpy in /usr/local/lib/python3.7/dist-packages (from SHAP) (1.19.5)\n",
            "Requirement already satisfied: scipy in /usr/local/lib/python3.7/dist-packages (from SHAP) (1.4.1)\n",
            "Requirement already satisfied: scikit-learn in /usr/local/lib/python3.7/dist-packages (from SHAP) (0.22.2.post1)\n",
            "Requirement already satisfied: pandas in /usr/local/lib/python3.7/dist-packages (from SHAP) (1.1.5)\n",
            "Requirement already satisfied: tqdm>4.25.0 in /usr/local/lib/python3.7/dist-packages (from SHAP) (4.41.1)\n",
            "Collecting slicer==0.0.7\n",
            "  Downloading https://files.pythonhosted.org/packages/78/c2/b3f55dfdb8af9812fdb9baf70cacf3b9e82e505b2bd4324d588888b81202/slicer-0.0.7-py3-none-any.whl\n",
            "Requirement already satisfied: numba in /usr/local/lib/python3.7/dist-packages (from SHAP) (0.51.2)\n",
            "Requirement already satisfied: cloudpickle in /usr/local/lib/python3.7/dist-packages (from SHAP) (1.3.0)\n",
            "Requirement already satisfied: joblib>=0.11 in /usr/local/lib/python3.7/dist-packages (from scikit-learn->SHAP) (1.0.1)\n",
            "Requirement already satisfied: pytz>=2017.2 in /usr/local/lib/python3.7/dist-packages (from pandas->SHAP) (2018.9)\n",
            "Requirement already satisfied: python-dateutil>=2.7.3 in /usr/local/lib/python3.7/dist-packages (from pandas->SHAP) (2.8.1)\n",
            "Requirement already satisfied: setuptools in /usr/local/lib/python3.7/dist-packages (from numba->SHAP) (56.0.0)\n",
            "Requirement already satisfied: llvmlite<0.35,>=0.34.0.dev0 in /usr/local/lib/python3.7/dist-packages (from numba->SHAP) (0.34.0)\n",
            "Requirement already satisfied: six>=1.5 in /usr/local/lib/python3.7/dist-packages (from python-dateutil>=2.7.3->pandas->SHAP) (1.15.0)\n",
            "Building wheels for collected packages: SHAP\n",
            "  Building wheel for SHAP (setup.py) ... \u001b[?25l\u001b[?25hdone\n",
            "  Created wheel for SHAP: filename=shap-0.39.0-cp37-cp37m-linux_x86_64.whl size=491628 sha256=8769cd7fec0ae5b75788b851645ff080c4bff13b289a2eba7fa2bcf4bed48e86\n",
            "  Stored in directory: /root/.cache/pip/wheels/15/27/f5/a8ab9da52fd159aae6477b5ede6eaaec69fd130fa0fa59f283\n",
            "Successfully built SHAP\n",
            "Installing collected packages: slicer, SHAP\n",
            "Successfully installed SHAP-0.39.0 slicer-0.0.7\n"
          ],
          "name": "stdout"
        }
      ]
    },
    {
      "cell_type": "code",
      "metadata": {
        "colab": {
          "base_uri": "https://localhost:8080/",
          "height": 601
        },
        "id": "gxYUCm81LYLm",
        "outputId": "0beb483f-45e5-47cb-acd5-c05c7a87ba89"
      },
      "source": [
        "import shap\n",
        "explainer = shap.LinearExplainer(LR, x_train, feature_perturbation=\"interventional\")\n",
        "shap_values = explainer.shap_values(x_test)\n",
        "shap.summary_plot(shap_values, x_test)\n",
        "shap.summary_plot(shap_values, x_train, plot_type=\"bar\")"
      ],
      "execution_count": 80,
      "outputs": [
        {
          "output_type": "stream",
          "text": [
            "The feature_perturbation option is now deprecated in favor of using the appropriate masker (maskers.Independent, or maskers.Impute)\n"
          ],
          "name": "stderr"
        },
        {
          "output_type": "display_data",
          "data": {
            "image/png": "[encoded data removed]",
            "text/plain": [
              "<Figure size 576x309.6 with 2 Axes>"
            ]
          },
          "metadata": {
            "tags": []
          }
        },
        {
          "output_type": "display_data",
          "data": {
            "image/png": "[encoded data removed]",
            "text/plain": [
              "<Figure size 576x309.6 with 1 Axes>"
            ]
          },
          "metadata": {
            "tags": []
          }
        }
      ]
    },
    {
      "cell_type": "markdown",
      "metadata": {
        "id": "nkVz2nrOMNQI"
      },
      "source": [
        "As expected from the statistical inference that I conducted, the Pclass has a significant effect on the survival rate of the passengers. It’s the second most significant feature after “Sex”. We see from the plot above that low values (blue) for Pclass which correspond to a class of 1 (richer people) have a positive effect on people’s survival while higher values (red), which correspond to the third class, have a negative effect on the survival rate. We can also see that “sex” is the most important feature with an indication that being a “female” (blue) had a positive impact on the survival rate. The feature “Age” also shows that lower values (blue) had a positive impact on survival."
      ]
    },
    {
      "cell_type": "code",
      "metadata": {
        "colab": {
          "base_uri": "https://localhost:8080/",
          "height": 341
        },
        "id": "17rubjUoMbOz",
        "outputId": "1ea2a27e-92ab-4b09-9a6f-2baa3592772e"
      },
      "source": [
        "shap.dependence_plot(\"Fare\", shap_values, x_test)\n",
        "#here is a linear relationship between how much people paid and their chance of survival. The richer they were the more likely they survived."
      ],
      "execution_count": 82,
      "outputs": [
        {
          "output_type": "display_data",
          "data": {
            "image/png": "[encoded data removed]",
            "text/plain": [
              "<Figure size 540x360 with 2 Axes>"
            ]
          },
          "metadata": {
            "tags": []
          }
        }
      ]
    },
    {
      "cell_type": "code",
      "metadata": {
        "id": "mAEC8DDfMumN"
      },
      "source": [
        ""
      ],
      "execution_count": null,
      "outputs": []
    }
  ]
}